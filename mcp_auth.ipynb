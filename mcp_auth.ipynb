{
 "cells": [
  {
   "cell_type": "code",
   "execution_count": 12,
   "id": "36208d01-2dd4-4f43-aaa4-5053b2ef7ad6",
   "metadata": {},
   "outputs": [],
   "source": [
    "import asyncio\n",
    "import logging\n",
    "from mcp.client.session import ClientSession\n",
    "from mcp.client.sse import sse_client\n",
    "\n",
    "# It's good practice to have logging configured\n",
    "logging.basicConfig(level=logging.INFO)\n",
    "\n",
    "\n",
    "async def run_mcp_session():\n",
    "    \"\"\"\n",
    "    This function contains the logic to connect to the MCP server\n",
    "    and interact with its tools. It's called after successful authentication.\n",
    "    \"\"\"\n",
    "    # Ensure the MCP server is running on http://localhost:33335\n",
    "    print(\"🚀 Connecting to MCP server...\")\n",
    "    try:\n",
    "        async with sse_client(\"http://localhost:33335/sse\") as (reader, writer):\n",
    "            async with ClientSession(reader, writer) as session:\n",
    "                # ✅ List all available projects\n",
    "                print(\"➡️ Calling tool: list-projects...\")\n",
    "                result = await session.call_tool(\"list-projects\", {})\n",
    "                print(\"\\n✅ Available Projects:\")\n",
    "                print(result.content[0].text)\n",
    "\n",
    "                # ✅ Call another tool: read-project-summary\n",
    "                print(\"\\n➡️ Calling tool: read-project-summary...\")\n",
    "                summary = await session.call_tool(\"read-project-summary\", {\"project\": \"default\"})\n",
    "                print(\"\\n📘 Project Summary for 'default':\")\n",
    "                print(summary.content[0].text)\n",
    "\n",
    "\n",
    "    except ConnectionRefusedError:\n",
    "        print(\"\\n❌ Connection refused. Is the LikeC4 MCP server running?\")\n",
    "    except Exception as e:\n",
    "        print(f\"\\n❌ An unexpected error occurred: {e}\")\n",
    "\n",
    "\n",
    "async def login_and_connect(user_id, password):\n",
    "    \"\"\"\n",
    "    Checks if the user_id and password match. If they do,\n",
    "    it proceeds to connect to the MCP server.\n",
    "    \n",
    "    Args:\n",
    "        user_id (str): The user's identifier.\n",
    "        password (str): The user's password.\n",
    "    \"\"\"\n",
    "    print(f\"\\n--- Attempting login for user: {user_id} ---\")\n",
    "    if user_id and password and user_id == password:\n",
    "        print(\"✅ Authentication successful!\")\n",
    "        await run_mcp_session()\n",
    "    else:\n",
    "        print(\"❌ Authentication failed: User ID and password do not match.\")\n",
    "\n"
   ]
  },
  {
   "cell_type": "code",
   "execution_count": 13,
   "id": "f5c59f1d-e8a6-458c-93c3-2f0861954859",
   "metadata": {},
   "outputs": [
    {
     "name": "stdout",
     "output_type": "stream",
     "text": [
      "\n",
      "--- Attempting login for user: admin ---\n",
      "✅ Authentication successful!\n",
      "🚀 Connecting to MCP server...\n"
     ]
    },
    {
     "name": "stderr",
     "output_type": "stream",
     "text": [
      "INFO:httpx:HTTP Request: GET http://localhost:33335/sse \"HTTP/1.1 200 OK\"\n",
      "INFO:httpx:HTTP Request: POST http://localhost:33335/messages?sessionId=af102189-dca0-4f50-b228-78a9ebf3defd \"HTTP/1.1 202 Accepted\"\n",
      "INFO:httpx:HTTP Request: POST http://localhost:33335/messages?sessionId=af102189-dca0-4f50-b228-78a9ebf3defd \"HTTP/1.1 202 Accepted\"\n"
     ]
    },
    {
     "name": "stdout",
     "output_type": "stream",
     "text": [
      "➡️ Calling tool: list-projects...\n",
      "\n",
      "✅ Available Projects:\n",
      "{\"projects\":[{\"name\":\"default\",\"folder\":\"file:///d%3A/NextGenAI/LikeC4_try/fastapi-architecture\",\"sources\":[\"file:///d%3A/NextGenAI/LikeC4_try/fastapi-architecture/src/security_model.c4\",\"file:///d%3A/NextGenAI/LikeC4_try/fastapi-architecture/src/cloud.c4\"]}]}\n",
      "\n",
      "➡️ Calling tool: read-project-summary...\n",
      "\n",
      "📘 Project Summary for 'default':\n",
      "{\"folder\":\"file:///d%3A/NextGenAI/LikeC4_try/fastapi-architecture\",\"sources\":[\"file:///d%3A/NextGenAI/LikeC4_try/fastapi-architecture/src/security_model.c4\",\"file:///d%3A/NextGenAI/LikeC4_try/fastapi-architecture/src/cloud.c4\"],\"specification\":{\"elementKinds\":[\"actor\",\"system\",\"component\",\"database\",\"firewall\"],\"relationshipKinds\":[\"allow\",\"deny\",\"async\"],\"deploymentKinds\":[],\"tags\":[\"database\",\"dmz\",\"internal\"],\"metadataKeys\":[]},\"views\":[{\"name\":\"firewall_rules\",\"title\":\"Firewall Rules\",\"type\":\"element\"},{\"name\":\"index\",\"title\":\"Landscape view\",\"type\":\"element\"},{\"name\":\"network_security_policy\",\"title\":\"Network Security Policy\",\"type\":\"element\"}]}\n"
     ]
    }
   ],
   "source": [
    "await login_and_connect(user_id=\"admin\", password=\"admin\")"
   ]
  },
  {
   "cell_type": "code",
   "execution_count": 14,
   "id": "5f4720f7-dd8a-4b14-8d9f-a321873e6511",
   "metadata": {},
   "outputs": [
    {
     "name": "stdout",
     "output_type": "stream",
     "text": [
      "\n",
      "--- Attempting login for user: user ---\n",
      "❌ Authentication failed: User ID and password do not match.\n"
     ]
    }
   ],
   "source": [
    "await login_and_connect(user_id=\"user\", password=\"wrong_password\")"
   ]
  },
  {
   "cell_type": "code",
   "execution_count": null,
   "id": "96f61186-5fdf-4d43-918c-f4213fa2fef3",
   "metadata": {},
   "outputs": [],
   "source": []
  }
 ],
 "metadata": {
  "kernelspec": {
   "display_name": "Python 3 (ipykernel)",
   "language": "python",
   "name": "python3"
  },
  "language_info": {
   "codemirror_mode": {
    "name": "ipython",
    "version": 3
   },
   "file_extension": ".py",
   "mimetype": "text/x-python",
   "name": "python",
   "nbconvert_exporter": "python",
   "pygments_lexer": "ipython3",
   "version": "3.12.7"
  }
 },
 "nbformat": 4,
 "nbformat_minor": 5
}
